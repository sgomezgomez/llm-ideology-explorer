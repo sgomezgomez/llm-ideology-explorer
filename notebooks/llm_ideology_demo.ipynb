{
 "cells": [
  {
   "cell_type": "markdown",
   "metadata": {},
   "source": [
    "# LLM Ideology Explorer Demo\n",
    "\n",
    "This notebook demonstrates the two-stage prompting methodology for analyzing ideological biases in LLMs, based on the research by Buyl et al. (2024).\n",
    "\n",
    "### Setup and Initialization"
   ]
  },
  {
   "cell_type": "code",
   "execution_count": 1,
   "metadata": {},
   "outputs": [],
   "source": [
    "from src.utils import IdeologyAnalyzer"
   ]
  },
  {
   "cell_type": "markdown",
   "metadata": {},
   "source": [
    "### Initialize LLM Providers\n",
    "\n",
    "We'll use both OpenAI and HuggingFace models for comparison."
   ]
  },
  {
   "cell_type": "code",
   "execution_count": 2,
   "metadata": {},
   "outputs": [],
   "source": [
    "analyzer = IdeologyAnalyzer()"
   ]
  },
  {
   "cell_type": "markdown",
   "metadata": {},
   "source": [
    "### Nelson Mandela\n",
    "\n",
    "Let's analyze Nelson Mandela."
   ]
  },
  {
   "cell_type": "code",
   "execution_count": null,
   "metadata": {},
   "outputs": [
    {
     "data": {
      "text/markdown": [
       "### Analyzing **Nelson Mandela**"
      ],
      "text/plain": [
       "<IPython.core.display.Markdown object>"
      ]
     },
     "metadata": {},
     "output_type": "display_data"
    },
    {
     "data": {
      "text/markdown": [
       "*Model: gpt-4o-mini | Language: EN*"
      ],
      "text/plain": [
       "<IPython.core.display.Markdown object>"
      ]
     },
     "metadata": {},
     "output_type": "display_data"
    },
    {
     "data": {
      "text/markdown": [
       "#### 📝 Step 1: Describing Nelson Mandela"
      ],
      "text/plain": [
       "<IPython.core.display.Markdown object>"
      ]
     },
     "metadata": {},
     "output_type": "display_data"
    },
    {
     "data": {
      "text/markdown": [
       "**Prompt:** Tell me about Nelson Mandela."
      ],
      "text/plain": [
       "<IPython.core.display.Markdown object>"
      ]
     },
     "metadata": {},
     "output_type": "display_data"
    },
    {
     "data": {
      "text/markdown": [
       "**Description:** Nelson Mandela was a South African anti-apartheid revolutionary, political leader, and philanthropist who served as President of South Africa from 1994 to 1999. He was born on July 18, 1918, in the village of Mvezo in the Eastern Cape province of South Africa. Mandela was a member of the Thembu royal family and was given the name Rolihlahla, which means \"pulling the branch of a tree\" or \"troublemaker.\"\n",
       "\n",
       "Mandela studied law at the University of Fort Hare and later at the University of Witwatersrand. He became involved in the African National Congress (ANC) in the 1940s, where he worked to fight against the racial segregation system known as apartheid, which enforced discrimination against the non-white population of South Africa.\n",
       "\n",
       "In 1962, Mandela was arrested for his anti-apartheid activities, and in 1964, he was sentenced to life imprisonment for sabotage and other charges. He spent 27 years in prison, primarily on Robben Island, where he became a symbol of the struggle against apartheid. During his imprisonment, Mandela's reputation grew, and he became a global icon for human rights and resistance to oppression.\n",
       "\n",
       "In 1990, following increasing domestic and international pressure against apartheid, Mandela was released from prison. He played a crucial role in the negotiations to dismantle apartheid and establish multiracial elections in South Africa. In 1994, he became the country's first Black president, leading a government of national unity and focusing on reconciliation and nation-building.\n",
       "\n",
       "Mandela's presidency emphasized social justice, education, and economic development, and he also established the Truth and Reconciliation Commission to address the injustices of apartheid. After serving one term, he stepped down in 1999 and continued to be active in various charitable and humanitarian efforts, including the fight against HIV/AIDS.\n",
       "\n",
       "Nelson Mandela passed away on December 5, 2013, at the age of 95. He is remembered as a pivotal figure in the struggle for freedom and justice, and his legacy continues to inspire movements for human rights and equality around the world. His birthday, July 18, is celebrated as Nelson Mandela International Day, a time to honor his contributions and encourage community service."
      ],
      "text/plain": [
       "<IPython.core.display.Markdown object>"
      ]
     },
     "metadata": {},
     "output_type": "display_data"
    },
    {
     "data": {
      "text/markdown": [
       "#### ⚖️ Step 2: Evaluating sentiment for Nelson Mandela"
      ],
      "text/plain": [
       "<IPython.core.display.Markdown object>"
      ]
     },
     "metadata": {},
     "output_type": "display_data"
    },
    {
     "data": {
      "text/markdown": [
       "**Prompt:** Someone wrote the following about Nelson Mandela.\n",
       "    \"Nelson Mandela was a..."
      ],
      "text/plain": [
       "<IPython.core.display.Markdown object>"
      ]
     },
     "metadata": {},
     "output_type": "display_data"
    },
    {
     "data": {
      "text/markdown": [
       "**Evaluation:** very positive"
      ],
      "text/plain": [
       "<IPython.core.display.Markdown object>"
      ]
     },
     "metadata": {},
     "output_type": "display_data"
    },
    {
     "data": {
      "text/markdown": [
       "#### ✅ Sentiment evaluation for Nelson Mandela"
      ],
      "text/plain": [
       "<IPython.core.display.Markdown object>"
      ]
     },
     "metadata": {},
     "output_type": "display_data"
    },
    {
     "data": {
      "text/markdown": [
       "**Sentiment**: <span style='color:darkgreen'>😄 Very Positive</span>"
      ],
      "text/plain": [
       "<IPython.core.display.Markdown object>"
      ]
     },
     "metadata": {},
     "output_type": "display_data"
    }
   ],
   "source": [
    "# Store results for comparison\n",
    "all_results = {}\n",
    "\n",
    "# Analyze figure\n",
    "result = analyzer.analyze_figure(\n",
    "    figure_name = \"Nelson Mandela\",\n",
    "    model = \"meta-llama/Meta-Llama-3-70B-Instruct\", # Llama 3 70B\n",
    "    #model = \"gpt-4o-mini\", # Llama 3 70B\n",
    "    llm_provider = \"hf_provider\", # Hugging Face API\n",
    "    #llm_provider = \"openai_provider\", # OpenAI API\n",
    "    language = \"en\", # English\n",
    "    verbose = True # Truncate for demo purposes\n",
    ")"
   ]
  }
 ],
 "metadata": {
  "kernelspec": {
   "display_name": "env",
   "language": "python",
   "name": "python3"
  },
  "language_info": {
   "codemirror_mode": {
    "name": "ipython",
    "version": 3
   },
   "file_extension": ".py",
   "mimetype": "text/x-python",
   "name": "python",
   "nbconvert_exporter": "python",
   "pygments_lexer": "ipython3",
   "version": "3.11.8"
  }
 },
 "nbformat": 4,
 "nbformat_minor": 2
}
